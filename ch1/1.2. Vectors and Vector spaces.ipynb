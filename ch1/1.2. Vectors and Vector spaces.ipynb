{
 "cells": [
  {
   "cell_type": "markdown",
   "metadata": {},
   "source": [
    "### Listing 1.2 Vector Operations in Python"
   ]
  },
  {
   "cell_type": "code",
   "execution_count": null,
   "metadata": {},
   "outputs": [],
   "source": [
    "import numpy as np"
   ]
  },
  {
   "cell_type": "code",
   "execution_count": null,
   "metadata": {},
   "outputs": [],
   "source": [
    "v_a = np.array([2,4,6,8])\n",
    "v_b = np.array([1,3,5,7])\n",
    "ab_dotp = np.dot(v_a, v_b)"
   ]
  },
  {
   "cell_type": "code",
   "execution_count": null,
   "metadata": {},
   "outputs": [],
   "source": [
    "v_a = np.array([2,4,6,8])\n",
    "v_b = np.array([1,3,5,7])"
   ]
  },
  {
   "cell_type": "code",
   "execution_count": null,
   "metadata": {},
   "outputs": [],
   "source": [
    "ab_dotp = np.dot(v_a, v_b)\n",
    "print(\"Dot product of v_a and v_b: \", ab_dotp)"
   ]
  },
  {
   "cell_type": "code",
   "execution_count": null,
   "metadata": {},
   "outputs": [],
   "source": [
    "ab_add = v_a + v_b\n",
    "ab_subt = v_a - v_b\n",
    "ab_mult = v_a * v_b\n",
    "ab_div = v_a / v_b"
   ]
  },
  {
   "cell_type": "code",
   "execution_count": null,
   "metadata": {},
   "outputs": [],
   "source": [
    "print(\"Add v_a and v_b: \", ab_add)\n",
    "print(\"Subtract v_b from v_a \", ab_subt)\n",
    "print(\"Multiply v_a and v_b \", ab_mult)\n",
    "print(\"Division v_b by v_b \", ab_div)"
   ]
  },
  {
   "cell_type": "markdown",
   "metadata": {},
   "source": [
    "### Listing 1.3 Manual Implementation of Dot Product in Python"
   ]
  },
  {
   "cell_type": "code",
   "execution_count": null,
   "metadata": {},
   "outputs": [],
   "source": [
    "import numpy as np\n",
    "from sklearn.metrics.pairwise import cosine_similarity"
   ]
  },
  {
   "cell_type": "code",
   "execution_count": null,
   "metadata": {},
   "outputs": [],
   "source": [
    "v_a = np.array([2,4,6,8])\n",
    "v_b = np.array([1,3,5,7])\n",
    "n = len(v_a)\n",
    "sum = 0"
   ]
  },
  {
   "cell_type": "code",
   "execution_count": null,
   "metadata": {},
   "outputs": [],
   "source": [
    "if (len(v_a) == len(v_b)):\n",
    "\tfor i in range(0, n):\n",
    "\t\tsum = sum + (v_a[i] * v_b[i])\n",
    "\tprint(\"The dot product of v_a and v_b is: \", sum)\n",
    "else:\n",
    "\tprint(\"ValueError: shapes of v_a and v_b do not match\")"
   ]
  },
  {
   "cell_type": "markdown",
   "metadata": {},
   "source": [
    "### Listing 1.4 Cosine Similarity in Python"
   ]
  },
  {
   "cell_type": "code",
   "execution_count": null,
   "metadata": {},
   "outputs": [],
   "source": [
    "import numpy as np\n",
    "from sklearn.metrics.pairwise import cosine_similarity"
   ]
  },
  {
   "cell_type": "code",
   "execution_count": null,
   "metadata": {},
   "outputs": [],
   "source": [
    "v_a = np.array([2,4,6,8])\n",
    "v_b = np.array([1,3,5,7])"
   ]
  },
  {
   "cell_type": "code",
   "execution_count": null,
   "metadata": {},
   "outputs": [],
   "source": [
    "# cosine_similarity expects a 2-d array so we will reshape our arrays (vectors)\n",
    "d2_va = v_a.reshape(1,4)\n",
    "d2_vb = v_b.reshape(1,4)\n",
    "cos_ab = cosine_similarity(d2_va, d2_vb)\n",
    "print(\"Cosine similarity using cosine_similarity library: \", cos_ab)"
   ]
  },
  {
   "cell_type": "code",
   "execution_count": null,
   "metadata": {},
   "outputs": [],
   "source": [
    "ab_dotp = np.dot(v_a, v_b)\n",
    "v_a_normalized = np.linalg.norm(v_a)\n",
    "v_b_normalized = np.linalg.norm(v_b)\n",
    "cos_ab = ab_dotp / (v_a_normalized * v_b_normalized)\n",
    "print(\"Cosine similarity using manual implementation: \", cos_ab)"
   ]
  },
  {
   "cell_type": "code",
   "execution_count": null,
   "metadata": {},
   "outputs": [],
   "source": []
  }
 ],
 "metadata": {
  "kernelspec": {
   "display_name": "Python 3",
   "language": "python",
   "name": "python3"
  },
  "language_info": {
   "codemirror_mode": {
    "name": "ipython",
    "version": 3
   },
   "file_extension": ".py",
   "mimetype": "text/x-python",
   "name": "python",
   "nbconvert_exporter": "python",
   "pygments_lexer": "ipython3",
   "version": "3.7.3"
  }
 },
 "nbformat": 4,
 "nbformat_minor": 2
}
