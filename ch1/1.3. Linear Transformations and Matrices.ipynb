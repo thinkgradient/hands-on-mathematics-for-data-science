{
 "cells": [
  {
   "cell_type": "markdown",
   "metadata": {},
   "source": [
    "### Listing 1.5 Matrix Creation in Python"
   ]
  },
  {
   "cell_type": "code",
   "execution_count": null,
   "metadata": {},
   "outputs": [],
   "source": [
    "import numpy as np"
   ]
  },
  {
   "cell_type": "code",
   "execution_count": null,
   "metadata": {},
   "outputs": [],
   "source": [
    "m_a = np.array([[2, 4, 5, 6],\n",
    "       [8, 4, 3, 6],\n",
    "       [1, 5, 2, 4],\n",
    "       [4, 1, 5, 2]])\n",
    "\n",
    "print(\"Matrix in Python: \", m_a)"
   ]
  },
  {
   "cell_type": "markdown",
   "metadata": {},
   "source": [
    "### Listing 1.6 Matrix Multiplication in Python"
   ]
  },
  {
   "cell_type": "code",
   "execution_count": null,
   "metadata": {},
   "outputs": [],
   "source": [
    "import numpy as np"
   ]
  },
  {
   "cell_type": "code",
   "execution_count": null,
   "metadata": {},
   "outputs": [],
   "source": [
    "m_a = np.array([[2, 4, 5, 6],\n",
    "       [8, 4, 3, 6],\n",
    "       [1, 5, 2, 4],\n",
    "       [4, 1, 5, 2]])\n",
    "    \n",
    "m_b = np.array([[3, 5, 1, 6],\n",
    "       [1, 2, 5, 6],\n",
    "       [2, 3, 5, 1],\n",
    "       [4, 3, 2, 5]])\n",
    "\n",
    "ab_mult = np.matmul(m_a, m_b)\n",
    "\n",
    "print(\"Multiplication of matrix m_a and m_b: \", ab_mult)"
   ]
  },
  {
   "cell_type": "markdown",
   "metadata": {},
   "source": [
    "### Listing 1.7 Linear Transformation in Python"
   ]
  },
  {
   "cell_type": "code",
   "execution_count": null,
   "metadata": {},
   "outputs": [],
   "source": [
    "import numpy as np\n",
    "import matplotlib.pyplot as plt"
   ]
  },
  {
   "cell_type": "code",
   "execution_count": null,
   "metadata": {},
   "outputs": [],
   "source": [
    "v = np.array([1,1])\n",
    "origin = 0\n",
    "x_point = v[0]\n",
    "y_point = v[1]"
   ]
  },
  {
   "cell_type": "code",
   "execution_count": null,
   "metadata": {},
   "outputs": [],
   "source": [
    "# Plot original vector\n",
    "plt.plot([origin, x_point], [origin, y_point], 'blue', label='(1,1)', linewidth = 2)\n",
    "plt.plot([origin, 3],[origin,0], 'black', label = 'x')\n",
    "plt.plot([origin, 0],[origin,3], 'black', label = 'y')\n",
    "plt.legend()\n",
    "plt.axis((-1,3,-1,3))\n",
    "plt.grid()\n",
    "plt.show()"
   ]
  },
  {
   "cell_type": "code",
   "execution_count": null,
   "metadata": {},
   "outputs": [],
   "source": [
    "#Apply transformation\n",
    "v_scale = np.array([[1,2],[2,1]])\n",
    "v2 = np.dot(v,v_scale)\n",
    "scale_x_point = v2[0]\n",
    "scale_y_point = v2[1]"
   ]
  },
  {
   "cell_type": "code",
   "execution_count": null,
   "metadata": {},
   "outputs": [],
   "source": [
    "#Plot transformed vector\n",
    "plt.plot([origin, x_point], [origin, y_point], 'blue', label='(1,1)', linewidth = 3)\n",
    "plt.plot([origin,scale_x_point],[origin,scale_y_point],'orange',label='(3,3)', linewidth=1)\n",
    "plt.plot([origin, 3],[origin,0], 'black', label = 'x')\n",
    "plt.plot([origin, 0],[origin,3], 'black', label = 'y')\n",
    "plt.legend()\n",
    "plt.axis((-1,3,-1,3))\n",
    "plt.grid()\n",
    "plt.show()"
   ]
  },
  {
   "cell_type": "code",
   "execution_count": null,
   "metadata": {},
   "outputs": [],
   "source": []
  }
 ],
 "metadata": {
  "kernelspec": {
   "display_name": "Python 3",
   "language": "python",
   "name": "python3"
  },
  "language_info": {
   "codemirror_mode": {
    "name": "ipython",
    "version": 3
   },
   "file_extension": ".py",
   "mimetype": "text/x-python",
   "name": "python",
   "nbconvert_exporter": "python",
   "pygments_lexer": "ipython3",
   "version": "3.7.3"
  }
 },
 "nbformat": 4,
 "nbformat_minor": 2
}
